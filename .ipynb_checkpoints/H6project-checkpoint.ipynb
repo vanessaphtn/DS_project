{
 "cells": [
  {
   "cell_type": "markdown",
   "metadata": {
    "colab_type": "text",
    "id": "aunJJpUKkagy"
   },
   "source": [
    "# DS PROJECT - Predicting the outcome of driving exams in Estonia"
   ]
  }
 ],
 "metadata": {
  "colab": {
   "collapsed_sections": [
    "1W5W4Af6kaj_",
    "0ZMGnhJxkakA"
   ],
   "name": "IDS2020_HW02_inprogress.ipynb",
   "provenance": []
  },
  "kernelspec": {
   "display_name": "Python 3 (ipykernel)",
   "language": "python",
   "name": "python3"
  },
  "language_info": {
   "codemirror_mode": {
    "name": "ipython",
    "version": 3
   },
   "file_extension": ".py",
   "mimetype": "text/x-python",
   "name": "python",
   "nbconvert_exporter": "python",
   "pygments_lexer": "ipython3",
   "version": "3.11.5"
  }
 },
 "nbformat": 4,
 "nbformat_minor": 4
}
