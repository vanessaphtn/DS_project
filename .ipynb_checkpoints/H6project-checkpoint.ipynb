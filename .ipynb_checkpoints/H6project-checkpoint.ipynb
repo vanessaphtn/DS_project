{
 "cells": [
  {
   "cell_type": "markdown",
   "metadata": {
    "colab_type": "text",
    "id": "aunJJpUKkagy"
   },
   "source": [
    "# DS PROJECT - Predicting the outcome of driving exams in Estonia"
   ]
  },
  {
   "cell_type": "markdown",
   "metadata": {},
   "source": [
    "## Reading and examining the data"
   ]
  },
  {
   "cell_type": "markdown",
   "metadata": {},
   "source": [
    "### Reading and formatting"
   ]
  },
  {
   "cell_type": "code",
   "execution_count": 31,
   "metadata": {
    "scrolled": true
   },
   "outputs": [
    {
     "data": {
      "text/html": [
       "<div>\n",
       "<style scoped>\n",
       "    .dataframe tbody tr th:only-of-type {\n",
       "        vertical-align: middle;\n",
       "    }\n",
       "\n",
       "    .dataframe tbody tr th {\n",
       "        vertical-align: top;\n",
       "    }\n",
       "\n",
       "    .dataframe thead th {\n",
       "        text-align: right;\n",
       "    }\n",
       "</style>\n",
       "<table border=\"1\" class=\"dataframe\">\n",
       "  <thead>\n",
       "    <tr style=\"text-align: right;\">\n",
       "      <th></th>\n",
       "      <th>EKSAMI_SOORITAJA</th>\n",
       "      <th>BYROO</th>\n",
       "      <th>KATEGOORIA</th>\n",
       "      <th>ERITINGIMUSED</th>\n",
       "      <th>VIIMANE_AUTOKOOL</th>\n",
       "      <th>SOIDUOPETAJA_KAASAS</th>\n",
       "      <th>EKSAMINEERIJA</th>\n",
       "      <th>SEISUND</th>\n",
       "      <th>KESTUS</th>\n",
       "      <th>KATK_POHJUS</th>\n",
       "      <th>MITTEARVESTATUD</th>\n",
       "      <th>VEAD</th>\n",
       "      <th>AASTA</th>\n",
       "      <th>KUU</th>\n",
       "    </tr>\n",
       "  </thead>\n",
       "  <tbody>\n",
       "    <tr>\n",
       "      <th>0</th>\n",
       "      <td>fd4a476c2fff5845</td>\n",
       "      <td>Haapsalu</td>\n",
       "      <td>B</td>\n",
       "      <td>101</td>\n",
       "      <td>osaühing KLIMBERG</td>\n",
       "      <td>E</td>\n",
       "      <td>31451a368e962058</td>\n",
       "      <td>SOORITATUD</td>\n",
       "      <td>50.0</td>\n",
       "      <td>NaN</td>\n",
       "      <td>NaN</td>\n",
       "      <td>NaN</td>\n",
       "      <td>2021</td>\n",
       "      <td>1</td>\n",
       "    </tr>\n",
       "    <tr>\n",
       "      <th>1</th>\n",
       "      <td>8fe3816987e62971</td>\n",
       "      <td>Jõgeva</td>\n",
       "      <td>B</td>\n",
       "      <td>101</td>\n",
       "      <td>OÜ AUTOSÕIT</td>\n",
       "      <td>E</td>\n",
       "      <td>ae264be409f2ca9f</td>\n",
       "      <td>MITTE_SOORITATUD</td>\n",
       "      <td>24.0</td>\n",
       "      <td>NaN</td>\n",
       "      <td>EESOIGUS</td>\n",
       "      <td>NaN</td>\n",
       "      <td>2021</td>\n",
       "      <td>1</td>\n",
       "    </tr>\n",
       "    <tr>\n",
       "      <th>2</th>\n",
       "      <td>1131ad82d5710721</td>\n",
       "      <td>Põlva</td>\n",
       "      <td>B</td>\n",
       "      <td>101</td>\n",
       "      <td>H&amp;M MERTENS OÜ</td>\n",
       "      <td>E</td>\n",
       "      <td>40bcf2cea820fca6</td>\n",
       "      <td>MITTE_SOORITATUD</td>\n",
       "      <td>24.0</td>\n",
       "      <td>NaN</td>\n",
       "      <td>EESOIGUS</td>\n",
       "      <td>NaN</td>\n",
       "      <td>2021</td>\n",
       "      <td>1</td>\n",
       "    </tr>\n",
       "    <tr>\n",
       "      <th>3</th>\n",
       "      <td>819bfde54073d8e7</td>\n",
       "      <td>Võru</td>\n",
       "      <td>B</td>\n",
       "      <td>101</td>\n",
       "      <td>Tugev Partner OÜ</td>\n",
       "      <td>E</td>\n",
       "      <td>bf2b7218d36e2a3d</td>\n",
       "      <td>MITTE_SOORITATUD</td>\n",
       "      <td>48.0</td>\n",
       "      <td>NaN</td>\n",
       "      <td>JALGIMINE|LIIKLUSOHUTUS|TEELPUSIMINE</td>\n",
       "      <td>NaN</td>\n",
       "      <td>2021</td>\n",
       "      <td>1</td>\n",
       "    </tr>\n",
       "    <tr>\n",
       "      <th>4</th>\n",
       "      <td>06493201c082d7f2</td>\n",
       "      <td>Haapsalu</td>\n",
       "      <td>B</td>\n",
       "      <td>101</td>\n",
       "      <td>OÜ Raak Company</td>\n",
       "      <td>E</td>\n",
       "      <td>31451a368e962058</td>\n",
       "      <td>SOORITATUD</td>\n",
       "      <td>51.0</td>\n",
       "      <td>NaN</td>\n",
       "      <td>NaN</td>\n",
       "      <td>NaN</td>\n",
       "      <td>2021</td>\n",
       "      <td>1</td>\n",
       "    </tr>\n",
       "  </tbody>\n",
       "</table>\n",
       "</div>"
      ],
      "text/plain": [
       "   EKSAMI_SOORITAJA     BYROO KATEGOORIA ERITINGIMUSED   VIIMANE_AUTOKOOL  \\\n",
       "0  fd4a476c2fff5845  Haapsalu          B           101  osaühing KLIMBERG   \n",
       "1  8fe3816987e62971    Jõgeva          B           101        OÜ AUTOSÕIT   \n",
       "2  1131ad82d5710721     Põlva          B           101     H&M MERTENS OÜ   \n",
       "3  819bfde54073d8e7      Võru          B           101   Tugev Partner OÜ   \n",
       "4  06493201c082d7f2  Haapsalu          B           101    OÜ Raak Company   \n",
       "\n",
       "  SOIDUOPETAJA_KAASAS     EKSAMINEERIJA           SEISUND  KESTUS KATK_POHJUS  \\\n",
       "0                   E  31451a368e962058        SOORITATUD    50.0         NaN   \n",
       "1                   E  ae264be409f2ca9f  MITTE_SOORITATUD    24.0         NaN   \n",
       "2                   E  40bcf2cea820fca6  MITTE_SOORITATUD    24.0         NaN   \n",
       "3                   E  bf2b7218d36e2a3d  MITTE_SOORITATUD    48.0         NaN   \n",
       "4                   E  31451a368e962058        SOORITATUD    51.0         NaN   \n",
       "\n",
       "                        MITTEARVESTATUD VEAD  AASTA  KUU  \n",
       "0                                   NaN  NaN   2021    1  \n",
       "1                              EESOIGUS  NaN   2021    1  \n",
       "2                              EESOIGUS  NaN   2021    1  \n",
       "3  JALGIMINE|LIIKLUSOHUTUS|TEELPUSIMINE  NaN   2021    1  \n",
       "4                                   NaN  NaN   2021    1  "
      ]
     },
     "execution_count": 31,
     "metadata": {},
     "output_type": "execute_result"
    }
   ],
   "source": [
    "import pandas as pd\n",
    "\n",
    "# Read the three CSV files into Pandas DataFrames\n",
    "\n",
    "data2021 = pd.read_csv(\"se_2021.csv\")\n",
    "data2022 = pd.read_csv(\"se_2022.csv\")\n",
    "data2023 = pd.read_csv(\"se_2023.csv\")\n",
    "\n",
    "# Combine the three DataFrames\n",
    "combined_data = pd.concat([data2021, data2022, data2023], axis=0, ignore_index=True)\n",
    "\n",
    "#split KUUPAEV into AASTA and KUU\n",
    "combined_data[['AASTA', 'KUU']] = combined_data['KUUPAEV'].str.split('-', expand=True)\n",
    "combined_data['AASTA'] = pd.to_numeric(combined_data['AASTA'])\n",
    "combined_data['KUU'] = pd.to_numeric(combined_data['KUU'])\n",
    "\n",
    "#drop KUUPAEV\n",
    "combined_data = combined_data.drop(columns=['KUUPAEV'])\n",
    "combined_copy = combined_data.copy()\n",
    "\n",
    "combined_data.head()"
   ]
  },
  {
   "cell_type": "markdown",
   "metadata": {},
   "source": [
    "### Looking at values in the columns and encoding categorical variables into numerical representations"
   ]
  },
  {
   "cell_type": "code",
   "execution_count": 21,
   "metadata": {
    "scrolled": false
   },
   "outputs": [
    {
     "data": {
      "text/plain": [
       "Tallinn       49056\n",
       "Tartu         15323\n",
       "Rakvere       10772\n",
       "Pärnu          9759\n",
       "Jõhvi          8623\n",
       "Narva          6262\n",
       "Paide          6041\n",
       "Viljandi       5306\n",
       "Rapla          4097\n",
       "Haapsalu       3709\n",
       "Võru           3446\n",
       "Kuressaare     3232\n",
       "Valga          1052\n",
       "Jõgeva          912\n",
       "Põlva           907\n",
       "Kärdla          718\n",
       "Saue              2\n",
       "Name: BYROO, dtype: int64"
      ]
     },
     "execution_count": 21,
     "metadata": {},
     "output_type": "execute_result"
    }
   ],
   "source": [
    "combined_data['BYROO'].value_counts()"
   ]
  },
  {
   "cell_type": "code",
   "execution_count": null,
   "metadata": {},
   "outputs": [],
   "source": [
    "combined_copy #one-hot"
   ]
  },
  {
   "cell_type": "code",
   "execution_count": 23,
   "metadata": {
    "scrolled": true
   },
   "outputs": [
    {
     "data": {
      "text/plain": [
       "B      91552\n",
       "C       9684\n",
       "A       8310\n",
       "CE      7225\n",
       "BE      3834\n",
       "T       2599\n",
       "D       1920\n",
       "AM      1678\n",
       "A2      1377\n",
       "A1       836\n",
       "C1       175\n",
       "Z         22\n",
       "C1E        5\n",
       "Name: KATEGOORIA, dtype: int64"
      ]
     },
     "execution_count": 23,
     "metadata": {},
     "output_type": "execute_result"
    }
   ],
   "source": [
    "combined_data['KATEGOORIA'].value_counts()"
   ]
  },
  {
   "cell_type": "code",
   "execution_count": null,
   "metadata": {},
   "outputs": [],
   "source": [
    "combined_copy #one-hot"
   ]
  },
  {
   "cell_type": "code",
   "execution_count": 24,
   "metadata": {
    "scrolled": true
   },
   "outputs": [
    {
     "data": {
      "text/plain": [
       "101          69243\n",
       "101|78       19195\n",
       "79.01         1331\n",
       "96            1091\n",
       "78             982\n",
       "79.02          347\n",
       "106             13\n",
       "101|78|78        3\n",
       "Name: ERITINGIMUSED, dtype: int64"
      ]
     },
     "execution_count": 24,
     "metadata": {},
     "output_type": "execute_result"
    }
   ],
   "source": [
    "combined_data['ERITINGIMUSED'].value_counts() #uuri 101|78|78, kui ei saa selgust drop, neid ainult 3"
   ]
  },
  {
   "cell_type": "code",
   "execution_count": null,
   "metadata": {},
   "outputs": [],
   "source": [
    "combined_copy #one-hot"
   ]
  },
  {
   "cell_type": "code",
   "execution_count": 28,
   "metadata": {},
   "outputs": [
    {
     "name": "stdout",
     "output_type": "stream",
     "text": [
      "\"Autom\" Põltsamaa Liiklusklubi               225\n",
      "A&J AUS OÜ                                     9\n",
      "A+ AUTOKOOL OÜ                               256\n",
      "A-AUTOM, OÜ                                   23\n",
      "A2 autokool OÜ                                27\n",
      "AB Testudo OÜ                                 61\n",
      "AKTSIASELTS PÄRNU ATP                          3\n",
      "ALEKSANDRI AUTOKOOL                            3\n",
      "ALFA PRO OÜ                                   75\n",
      "ALFAWING OÜ                                   78\n",
      "ANDREI PERVORODNÕI - Stendall                  9\n",
      "ARION OÜ                                     539\n",
      "AUTOKOOLITUS OÜ                              475\n",
      "AUTOREM, OÜ                                   20\n",
      "AV Rae Liikluskoolituse OÜ                   581\n",
      "Aabe Cool UÜ                                   5\n",
      "Abja Gümnaasium                               75\n",
      "Aire Tammik Autokool OÜ                      628\n",
      "Aivar Tärk Autokool                           71\n",
      "Aktsiaselts Odium                           5133\n",
      "Aktsiaselts Tallinna Linnatransport          322\n",
      "Alal Koolitus OÜ                              72\n",
      "Alpine Autokool OÜ                            28\n",
      "Altera Autokool OÜ                           305\n",
      "Altera Garage OÜ                              13\n",
      "Ametikoolitus OÜ                            3696\n",
      "Anti Autokool OÜ                              48\n",
      "Aravete Keskkool                              36\n",
      "Arbimäe Liikluskool OÜ                       175\n",
      "Atlanta Autokool OÜ                         2884\n",
      "August Kitzbergi nimeline Gümnaasium          41\n",
      "Autojuht OÜ                                   64\n",
      "Autokool 100% OÜ                             101\n",
      "Autokool Drive OÜ                           2097\n",
      "Autokool Harju Autom OÜ                       18\n",
      "Autokool Kevad OÜ                            145\n",
      "Autokool Radar OÜ                            309\n",
      "Autokool Viva Liiklus OÜ                       5\n",
      "Autom Tallinna Autokool OÜ                  1184\n",
      "Aveda Koolituse Osaühing                     725\n",
      "Avinurme Gümnaasium                           39\n",
      "BEST autokool OÜ                              38\n",
      "DIVESAR OÜ                                    41\n",
      "Delta Autokool OÜ                            198\n",
      "Dify OÜ                                        3\n",
      "DriveLux OÜ                                  725\n",
      "EDUSEPP Osaühing                               5\n",
      "EESTI RIIKLIK AUTOREGISTRIKESKUS              96\n",
      "ERASÕIT OÜ                                     3\n",
      "ERK Autokool OÜ                               25\n",
      "ERMELO OÜ                                      1\n",
      "EVGENI KURISOO AUTOKOOL FIE                    7\n",
      "Ecodrive Eesti OÜ                            117\n",
      "Elektest OÜ                                   67\n",
      "Erkki Orunuk Autokool                         15\n",
      "Euro Autokool OÜ                               2\n",
      "Expert Autokool OÜ                           566\n",
      "Forbest Auto OÜ                              161\n",
      "GG Autkol OÜ                                 265\n",
      "Galaxy-Veod OÜ                                64\n",
      "H&M MERTENS OÜ                               307\n",
      "HEINO REMMELI AUTOKOOL                         3\n",
      "HELJU KALVIKU AUTOKOOL HARJU AUTOM             2\n",
      "HILLE ERIKU FIE AUTOKOOL RADIAL               22\n",
      "HK Autokool OÜ                               338\n",
      "Haabneeme Autokool OÜ                        354\n",
      "Haja Autokooli Osaühing                      887\n",
      "Hiiu Autokeskus OÜ                           443\n",
      "IVANOVSKI                                      5\n",
      "Ida-Virumaa Kutsehariduskeskus                74\n",
      "Igor Ivanovski, Autokool BRAVO               341\n",
      "Iisaku Gümnaasium                              1\n",
      "JMTV OÜ                                       84\n",
      "JOHANNES PIRITA LIIKLUSKOOL                    6\n",
      "JUAUS OÜ                                     478\n",
      "JUST DRIVE OÜ                               1112\n",
      "Jaanus Raak                                   28\n",
      "Juhan Liivi nim Alatskivi Kool                 4\n",
      "Jupiter autokool OÜ                           28\n",
      "JÕGEVA ÜHISGÜMNAASIUM                          3\n",
      "JÕHVI AMETIKOOL                                2\n",
      "Järva-Jaani Gümnaasium                        37\n",
      "Järvamaa Kutsehariduskeskus                  628\n",
      "Jüri Mägi                                     90\n",
      "Kadrina Keskkool                             186\n",
      "Kalle Autokool OÜ                            331\n",
      "Kalle Koppel                                   2\n",
      "KeVa OÜ                                        8\n",
      "Kehra Gümnaasium                              13\n",
      "Kehtna Kutsehariduskeskus                    180\n",
      "Keron OÜ                                      13\n",
      "Kesk-Eesti õppesõiduväljak MTÜ                 4\n",
      "Kilingi Autokool OÜ                           54\n",
      "Kiviõli I Keskkool                            34\n",
      "Klubi \"Põlva Autom\"                          289\n",
      "Koeru Keskkool                               188\n",
      "Kristiine Autokooli OÜ                       473\n",
      "Kunda Ühisgümnaasium                          27\n",
      "Kuressaare Ametikool                          54\n",
      "LELES OÜ                                       4\n",
      "LRK Liiklusklubi                               8\n",
      "Laplar transport OÜ                          241\n",
      "Leedevälja Autokool OÜ                       190\n",
      "Leisi Kool                                     2\n",
      "Libedasõit OÜ                                  3\n",
      "Loksa Gümnaasium                               3\n",
      "Lowisa Koolitus- ja Veoteenus OÜ               7\n",
      "Lähte Ühisgümnaasium                          99\n",
      "MARGETA KAUP LAANEPERE KOOLITUS               10\n",
      "MARKO MARTIN FIE                               1\n",
      "MARTIN JURS AUTOKOOL ROOLEKS                   8\n",
      "MG Autokool UÜ                               134\n",
      "MGA Koolitus OÜ                                1\n",
      "MGM OÜ                                       132\n",
      "MITTETULUNDUSÜHING VIVA LIIKLUS                5\n",
      "MMK Grupp OÜ                                 916\n",
      "MOTOKARU AUTOKOOL OÜ                           7\n",
      "Maardu Autokool Osaühing                     302\n",
      "Makena-Drive OÜ                               71\n",
      "Mati Männik Kiviõli Autokool                  35\n",
      "Mati Viin                                      1\n",
      "Mintals Grupp Osaühing                        76\n",
      "Mittetulundusühing Autobis                   292\n",
      "Mittetulundusühing Baltic Drive               22\n",
      "Mittetulundusühing EAKU                       10\n",
      "Mittetulundusühing EMPIRIA                    61\n",
      "Mittetulundusühing Ida-Virumaa Koolitus      564\n",
      "Mittetulundusühing Juniksol                   52\n",
      "Mittetulundusühing Koduharjutus               67\n",
      "Mittetulundusühing Kose Koolitus             423\n",
      "Mittetulundusühing NARVA AUTOM               809\n",
      "Mittetulundusühing Viljandi Autom           1498\n",
      "Mittetulundusühing Võru Autom                 36\n",
      "Motosõit OÜ                                   12\n",
      "Mustamäe Autokool Osaühing                   724\n",
      "NOORSOO ASSOTSIATSIOON KIIRUS               1426\n",
      "Niiluse Autokool OÜ                           28\n",
      "NoStress Autokool OÜ                           1\n",
      "OLEVIPOEG OÜ                                 843\n",
      "ORUNUK                                         1\n",
      "OSAÜHING ERMAN AUTOKOOL                      469\n",
      "OSAÜHING GARDEZ                               13\n",
      "OSAÜHING KALJU AUTOKOOL                       18\n",
      "OSAÜHING OBERST-TAKSO                          3\n",
      "OSAÜHING OVERLIN                               5\n",
      "OSAÜHING PERRARUS                              8\n",
      "OSAÜHING TEHNOSPRINT RN                        8\n",
      "Olustvere Teenindus- ja Maamajanduskool      352\n",
      "Oniks Pluss Osaühing                           1\n",
      "Origon EST OÜ                                768\n",
      "Orissaare Gümnaasium                           2\n",
      "Osaühing AUTOAEG                              38\n",
      "Osaühing AUTOKOOL MEWO                      1289\n",
      "Osaühing AUTOSÕIT RAKVERE                      8\n",
      "Osaühing Advance Autokool                     75\n",
      "Osaühing Annely Autokool                     607\n",
      "Osaühing Autokool Alopex                     145\n",
      "Osaühing Autokool Baltika                     14\n",
      "Osaühing Autokool F1                          34\n",
      "Osaühing Bellanora                           768\n",
      "Osaühing CERNAN                               16\n",
      "Osaühing Content Generation STA Grupp          2\n",
      "Osaühing Executive                            51\n",
      "Osaühing Foori Autokool                      109\n",
      "Osaühing GrandAuto                             1\n",
      "Osaühing I-Gent                               36\n",
      "Osaühing Ida-Virumaa Autokool                 82\n",
      "Osaühing JEFPA                                25\n",
      "Osaühing Juusu Auto                           26\n",
      "Osaühing Keila Autokool                      142\n",
      "Osaühing LRK Autokoolitus                   2785\n",
      "Osaühing LaplarAvia                         1100\n",
      "Osaühing Lääne-Virumaa Autokool               28\n",
      "Osaühing Mai Metsik Autokool                   3\n",
      "Osaühing Motokoolitus                        460\n",
      "Osaühing NORAX KOOLITUS                      514\n",
      "Osaühing Ritmo                               183\n",
      "Osaühing Rossmann'i Autokool                 239\n",
      "Osaühing STALIKA-VEOD                       1170\n",
      "Osaühing TAPA AUTOKOOL                      1952\n",
      "Osaühing TESTUDO                             338\n",
      "Osaühing UNOMAR GRUPP                       1091\n",
      "Osaühing Vahtralehe Autokool                  10\n",
      "Osaühing Venta Plus                          131\n",
      "Osaühing Viru AUTOM                         1057\n",
      "Osaühing WOODEN ROBOT                        318\n",
      "Osaühing YUNGMAN                            1084\n",
      "OÜ ABC Koolitus                                8\n",
      "OÜ AKSEGEN                                    12\n",
      "OÜ ALEKSPA                                     2\n",
      "OÜ AUS                                        11\n",
      "OÜ AUTOSÕIT                                12816\n",
      "OÜ AUTRA KOOLITUS                             38\n",
      "OÜ Almander                                  912\n",
      "OÜ Amobu                                     166\n",
      "OÜ Autokool Kiirendus                        652\n",
      "OÜ Ave Autokool                              173\n",
      "OÜ CAPITELLUM                                436\n",
      "OÜ CITY SERVICES GROUP                        13\n",
      "OÜ DARTANJAN                                   2\n",
      "OÜ ELVA AUTOKOOL                               5\n",
      "OÜ FLORINO AK                                  1\n",
      "OÜ Gestani                                   103\n",
      "OÜ GoBus AUTOKOOL                            964\n",
      "OÜ Hiiu Autokool                             128\n",
      "OÜ Horizontrans                               22\n",
      "OÜ Juhiluba                                  404\n",
      "OÜ KESKLINNA AUTOKOOL                          2\n",
      "OÜ KOLANDRIA                                   4\n",
      "OÜ Kindel rada                               262\n",
      "OÜ Kristal Auto                                2\n",
      "OÜ LAPLAR                                     51\n",
      "OÜ LASNAMÄE AUTOKOOL                        2090\n",
      "OÜ LEON SERVICES                               8\n",
      "OÜ LINEDIS                                   293\n",
      "OÜ Menetom                                     6\n",
      "OÜ NIGULISTE AUTOKOOL                         97\n",
      "OÜ NILMAX Autokool                            34\n",
      "OÜ Neti Autokool                              29\n",
      "OÜ Oljurauto                                  83\n",
      "OÜ PLEKK-LIISU LIIKLUSKOOL                    17\n",
      "OÜ PROMING                                     2\n",
      "OÜ Pirita Liikluskoolitus                      1\n",
      "OÜ Plekk-Liisu                               521\n",
      "OÜ RADIMIX                                    73\n",
      "OÜ RETHAL AUTO                                 6\n",
      "OÜ Raak Company                              190\n",
      "OÜ Raivo                                     120\n",
      "OÜ Rool                                      372\n",
      "OÜ Ropka Autokool                            129\n",
      "OÜ S & S DRIVE                                67\n",
      "OÜ SIRAGO                                     13\n",
      "OÜ Saku Autokool                             356\n",
      "OÜ Taavo Tenno Autokool                     2074\n",
      "OÜ Triada Autokool                           172\n",
      "OÜ Truckline                                   1\n",
      "OÜ Tõnni Autokool                             55\n",
      "OÜ VALKRUS                                   876\n",
      "OÜ VILTUMÄGI                                   1\n",
      "OÜ Viktorija Autokool                        607\n",
      "OÜ W-LEX KOOLITUS                            139\n",
      "P. R. S. TRANSPORT OÜ                         12\n",
      "PEETER ERIKU AUTOKOOL RADIAL                   2\n",
      "PRACTIZE OÜ                                    6\n",
      "Positiivne OÜ                                228\n",
      "Prime Auto Osaühing                           30\n",
      "PÕLTSAMAA AMETIKOOL                           14\n",
      "Pärnu Motokool OÜ                              8\n",
      "Pärnumaa Kutsehariduskeskus                  490\n",
      "Põhja-Järva Kool                               1\n",
      "RK Teeninduse OÜ                             707\n",
      "ROPKA ERAKOOL OÜ                             166\n",
      "RS Koolitus OÜ                                11\n",
      "Rae Liikluskool OÜ                            12\n",
      "Rakvere Ametikool                            343\n",
      "Rakvere Autokool OÜ                          601\n",
      "Rakvere Motokool OÜ                         1005\n",
      "Rapla Autokool OÜ                            634\n",
      "Rapla Sõiduõpe OÜ                             91\n",
      "Raul Kell Võrumaa Autokool                    13\n",
      "Revilo Teenus OÜ                              99\n",
      "RÜÜTLI AUTOKOOL OÜ                             3\n",
      "Räpina Aianduskool                           144\n",
      "SANET OÜ                                       1\n",
      "SIBRI OÜ                                      20\n",
      "SKY BEST DS OÜ                               883\n",
      "SOMERO AUTOKOOL OÜ                           716\n",
      "Selge Autokool OÜ                             32\n",
      "Silver Autokool OÜ                          1745\n",
      "Sipa Sõidukool OÜ                             17\n",
      "Sisekaitseakadeemia                          120\n",
      "Skruupul OÜ                                   43\n",
      "Sky Autokool OÜ                             2675\n",
      "SkyLasnamäe OÜ                               252\n",
      "Smart Autokool OÜ                            292\n",
      "Stalker Autokool Osaühing                   1325\n",
      "Stalker Nord Osaühing                       1213\n",
      "Start Autokool OÜ                            311\n",
      "SÕIDUKOOLITUSE OÜ                            187\n",
      "SÕIDUÕPPE OÜ                                1534\n",
      "Sõiduekspert OÜ                                4\n",
      "Sõidumootor OÜ                                 6\n",
      "Sõiduproff OÜ                                435\n",
      "TARMU PAJULA MAARJA AUTOKOOL                 138\n",
      "TULUNDUSÜHISTU F-1                             2\n",
      "Tabivere Põhikool                              1\n",
      "Tallinna Reaalkool                             1\n",
      "Tallinna Südalinna Kool                        3\n",
      "Tallinna Tehnikakõrgkool                       3\n",
      "Tamsalu Gümnaasium                             3\n",
      "Tapa Gümnaasium                               61\n",
      "Tartu Autokool OÜ                             71\n",
      "Tartu Rakenduslik Kolledž                     63\n",
      "Tehnikaspordiklubi KVART                      17\n",
      "Toomas Tanne Kehra Autokool                   38\n",
      "TreSteM OÜ                                    13\n",
      "Tugev Partner OÜ                            2405\n",
      "Tule Teele OÜ                                 41\n",
      "Tulundusühistu Illani                         61\n",
      "TÜ JUNGMAN PLUSS                             232\n",
      "TÜRI GÜMNAASIUM                                3\n",
      "TÜRI TEHNIKA-JA MAAMAJANDUSKOOL                5\n",
      "Täiendus OÜ                                   26\n",
      "Tõnis Mägi Autokool OÜ                      1616\n",
      "Tõrva Gümnaasium                              77\n",
      "Türi Ühisgümnaasium                          182\n",
      "VPK Koolitus OÜ                             2222\n",
      "Valgamaa Kutseõppekeskus                     311\n",
      "Vana-Vigala Tehnika- ja Teeninduskool         21\n",
      "Varstu Kool                                    3\n",
      "Viktal Grupp OÜ                                7\n",
      "Viljandi Kutseõppekeskus                     574\n",
      "Vivat OÜ                                     161\n",
      "Väike-Maarja Õppekeskus                       10\n",
      "Värska Gümnaasium                              4\n",
      "Zebra Auto-Moto kool OÜ                     2181\n",
      "aktsiaselts Aide                              33\n",
      "e-Autokoolitus OÜ                             20\n",
      "mittetulundusühing Tartu Autom                 6\n",
      "osaühing AUTOKOOL AKTSENT                     17\n",
      "osaühing Aide Autokool                      5780\n",
      "osaühing Autkol                               51\n",
      "osaühing EDIFICO                               2\n",
      "osaühing Ereston                              43\n",
      "osaühing FIXUM AK                            379\n",
      "osaühing JÄRVA AUTOKOOL                      233\n",
      "osaühing KAGUKAAR                            156\n",
      "osaühing KLIMBERG                            575\n",
      "osaühing Kadrioru Autokool                   883\n",
      "osaühing Kiivi Autokool                      138\n",
      "osaühing Kohe                                 38\n",
      "osaühing Kursus & Ko                         253\n",
      "osaühing Lakarosse                           485\n",
      "osaühing Pärnu Autokool                        4\n",
      "osaühing RADIANT                            1696\n",
      "osaühing Saue Autokool                         9\n",
      "osaühing THULEMANN                             4\n",
      "osaühing VASARA AUTOKOOL                     628\n",
      "osaühing Valga Makd                           28\n",
      "Õnneleid Liikluskool OÜ                      444\n",
      "Name: VIIMANE_AUTOKOOL, dtype: int64\n"
     ]
    }
   ],
   "source": [
    "value_counts_all = combined_data['VIIMANE_AUTOKOOL'].value_counts().sort_index()\n",
    "with pd.option_context('display.max_rows', None, 'display.max_columns', None):\n",
    "    print(value_counts_all)"
   ]
  },
  {
   "cell_type": "code",
   "execution_count": null,
   "metadata": {},
   "outputs": [],
   "source": [
    "combined_copy #vaata sarnased ja lühendid läbi, kõik variandid osaühingutest jms lühenditeks nagu OÜ, one-hot"
   ]
  },
  {
   "cell_type": "code",
   "execution_count": 32,
   "metadata": {},
   "outputs": [
    {
     "data": {
      "text/plain": [
       "E    119935\n",
       "J      5758\n",
       "Name: SOIDUOPETAJA_KAASAS, dtype: int64"
      ]
     },
     "execution_count": 32,
     "metadata": {},
     "output_type": "execute_result"
    }
   ],
   "source": [
    "combined_data['SOIDUOPETAJA_KAASAS'].value_counts()"
   ]
  },
  {
   "cell_type": "code",
   "execution_count": null,
   "metadata": {},
   "outputs": [],
   "source": [
    "combined_copy #binaarne"
   ]
  },
  {
   "cell_type": "code",
   "execution_count": 33,
   "metadata": {
    "scrolled": true
   },
   "outputs": [
    {
     "data": {
      "text/plain": [
       "7da809d9d7b050c3    18\n",
       "293e4a0f5ded2650    17\n",
       "8f5fc6fb5d3f10a2    16\n",
       "9389bc6e7479bc10    16\n",
       "2e5a49e327ad8546    16\n",
       "                    ..\n",
       "ee1f85ae4d8e7d75     1\n",
       "9727e3ffd56f6da2     1\n",
       "b721a3b4b7e5f826     1\n",
       "836ec1b5c8bb5727     1\n",
       "32426dfae15e014f     1\n",
       "Name: EKSAMI_SOORITAJA, Length: 68303, dtype: int64"
      ]
     },
     "execution_count": 33,
     "metadata": {},
     "output_type": "execute_result"
    }
   ],
   "source": [
    "combined_data['EKSAMI_SOORITAJA'].value_counts()"
   ]
  },
  {
   "cell_type": "code",
   "execution_count": null,
   "metadata": {},
   "outputs": [],
   "source": [
    "combined_copy #new column for how many times has taken exam (think through how to implement), after drop eksami_sooritaja"
   ]
  },
  {
   "cell_type": "code",
   "execution_count": 40,
   "metadata": {},
   "outputs": [
    {
     "data": {
      "text/plain": [
       "EKSAMINEERIJA     AASTA\n",
       "00fe4a180f5c474e  2021       40\n",
       "                  2023        2\n",
       "075e15cf091d347b  2021     1143\n",
       "                  2022     1225\n",
       "                  2023      897\n",
       "                           ... \n",
       "faeaf99580d6be30  2022     1177\n",
       "                  2023      448\n",
       "ff4d9b9b519322e3  2021     1277\n",
       "                  2022     1261\n",
       "                  2023      979\n",
       "Length: 133, dtype: int64"
      ]
     },
     "execution_count": 40,
     "metadata": {},
     "output_type": "execute_result"
    }
   ],
   "source": [
    "combined_data[['EKSAMINEERIJA','AASTA']].value_counts().sort_index()"
   ]
  },
  {
   "cell_type": "code",
   "execution_count": null,
   "metadata": {},
   "outputs": [],
   "source": [
    "combined_copy #one-hot"
   ]
  },
  {
   "cell_type": "code",
   "execution_count": 41,
   "metadata": {},
   "outputs": [
    {
     "data": {
      "text/plain": [
       "SOORITATUD           70087\n",
       "MITTE_SOORITATUD     55298\n",
       "EI_ILMUNUD_KOHALE     2604\n",
       "KATKESTATUD           1228\n",
       "Name: SEISUND, dtype: int64"
      ]
     },
     "execution_count": 41,
     "metadata": {},
     "output_type": "execute_result"
    }
   ],
   "source": [
    "combined_data['SEISUND'].value_counts()"
   ]
  },
  {
   "cell_type": "code",
   "execution_count": null,
   "metadata": {},
   "outputs": [],
   "source": [
    "combined_copy #muuda numbriteks"
   ]
  },
  {
   "cell_type": "code",
   "execution_count": 43,
   "metadata": {},
   "outputs": [
    {
     "data": {
      "text/plain": [
       "count    125414.000000\n",
       "mean         39.512088\n",
       "std          18.024153\n",
       "min           0.000000\n",
       "25%          27.000000\n",
       "50%          43.000000\n",
       "75%          51.000000\n",
       "max        1024.000000\n",
       "Name: KESTUS, dtype: float64"
      ]
     },
     "execution_count": 43,
     "metadata": {},
     "output_type": "execute_result"
    }
   ],
   "source": [
    "combined_data['KESTUS'].describe()"
   ]
  },
  {
   "cell_type": "code",
   "execution_count": null,
   "metadata": {},
   "outputs": [],
   "source": []
  }
 ],
 "metadata": {
  "colab": {
   "collapsed_sections": [
    "1W5W4Af6kaj_",
    "0ZMGnhJxkakA"
   ],
   "name": "IDS2020_HW02_inprogress.ipynb",
   "provenance": []
  },
  "kernelspec": {
   "display_name": "Python 3 (ipykernel)",
   "language": "python",
   "name": "python3"
  },
  "language_info": {
   "codemirror_mode": {
    "name": "ipython",
    "version": 3
   },
   "file_extension": ".py",
   "mimetype": "text/x-python",
   "name": "python",
   "nbconvert_exporter": "python",
   "pygments_lexer": "ipython3",
   "version": "3.11.4"
  }
 },
 "nbformat": 4,
 "nbformat_minor": 4
}
